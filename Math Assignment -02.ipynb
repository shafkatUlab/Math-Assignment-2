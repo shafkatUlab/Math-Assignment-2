{
 "cells": [
  {
   "cell_type": "markdown",
   "metadata": {},
   "source": [
    "Q.1 Write a function called rectangle that takes two integers m and n as arguments and prints out an m × n box consisting of asterisks."
   ]
  },
  {
   "cell_type": "code",
   "execution_count": 1,
   "metadata": {},
   "outputs": [
    {
     "name": "stdout",
     "output_type": "stream",
     "text": [
      "Enter Height: 4\n",
      "Enter Width: 8\n",
      "Rectangle \n",
      "* * * * * * * * \n",
      "* * * * * * * * \n",
      "* * * * * * * * \n",
      "* * * * * * * * \n"
     ]
    }
   ],
   "source": [
    "def rectangle(m,n):\n",
    "    for i in range(m):\n",
    "        for j in range(n):\n",
    "            print(end='* ')\n",
    "        print()\n",
    "a=int(input('Enter Height: '))\n",
    "b=int(input('Enter Width: '))\n",
    "print('Rectangle ')\n",
    "rectangle(a,b)"
   ]
  },
  {
   "cell_type": "markdown",
   "metadata": {},
   "source": [
    "Q.2 Write a function called add_excitement that takes a list of strings and adds an exclamation point ( ! ) to the end of each string in the list. The program should modify the original list and not return anything."
   ]
  },
  {
   "cell_type": "code",
   "execution_count": 2,
   "metadata": {},
   "outputs": [
    {
     "name": "stdout",
     "output_type": "stream",
     "text": [
      "How many lines?3\n",
      "Enter your text:Hey Shafkat\n",
      "Enter your text:How are you?\n",
      "Enter your text:I am Fine\n",
      "['Hey Shafkat!', 'How are you?!', 'I am Fine!']\n"
     ]
    }
   ],
   "source": [
    "def Add_Excitment(new_line):\n",
    "    i = 0\n",
    "    while i < len(new_line):\n",
    "        new_line[i] = new_line[i] + '!'\n",
    "        i = i + 1\n",
    "\n",
    "\n",
    "a = input('How many lines?')\n",
    "a = int(a)\n",
    "line = ['s'] * a\n",
    "j = 0\n",
    "while j < len(line):\n",
    "    line[j] = input('Enter your text:')\n",
    "    j = j + 1\n",
    "Add_Excitment(line)\n",
    "print(line)"
   ]
  },
  {
   "cell_type": "markdown",
   "metadata": {},
   "source": [
    "Q.3 Write the same function except that it should not modify the original list and should instead return a new list."
   ]
  },
  {
   "cell_type": "code",
   "execution_count": 3,
   "metadata": {},
   "outputs": [
    {
     "name": "stdout",
     "output_type": "stream",
     "text": [
      "How many lines?3\n",
      "Enter your text:Hey Shafkat\n",
      "Enter your text:How are you doing?\n",
      "Enter your text:Is it all Good?\n",
      "Before Calling The Function\n",
      "Input List : ['Hey Shafkat', 'How are you doing?', 'Is it all Good?']\n",
      "After Calling The Function\n",
      "Input List : ['Hey Shafkat!', 'Hey Shafkat', 'How are you doing?', 'Is it all Good?']\n",
      "New List: ['Hey Shafkat!', 'Hey Shafkat', 'How are you doing?', 'Is it all Good?']\n"
     ]
    }
   ],
   "source": [
    "def Add_Excitment(new_line):\n",
    "    new=[]  #new list\n",
    "    i = 0\n",
    "    while i < len(new_line):\n",
    "        new_line.insert(i,new_line[i]+'!')\n",
    "        i = i + 1\n",
    "        return line\n",
    "\n",
    "\n",
    "a = input('How many lines?')\n",
    "a = int(a)\n",
    "line = ['s'] * a\n",
    "j = 0\n",
    "while j < len(line):\n",
    "    line[j] = input('Enter your text:')\n",
    "    j = j + 1\n",
    "    \n",
    "print('Before Calling The Function\\nInput List :',line)    \n",
    "k=Add_Excitment(line)\n",
    "print('After Calling The Function\\nInput List :',line)\n",
    "print('New List:',k)"
   ]
  },
  {
   "cell_type": "markdown",
   "metadata": {},
   "source": [
    "Q.4 The digital root of a number n is obtained as follows: Add up the digits n to get a new number. Add up the digits of that to get another new number. Keep doing this until you get a number that has only one digit. That number is the digital root. For example, if n = 45893 , we add up the digits to get 4 + 5 + 8 + 9 + 3 = 29 . We then add up the digits of 29 to get 2 + 9 = 11 . We then add up the digits of 11 to get 1 + 1 = 2 . Since 2 has only one digit, 2 is our digital root. Write a function that returns the digital root of an integer n . [Note: there is a shortcut, where the digital root is equal to n mod 9, but do not use that here.]"
   ]
  },
  {
   "cell_type": "code",
   "execution_count": 4,
   "metadata": {},
   "outputs": [
    {
     "name": "stdout",
     "output_type": "stream",
     "text": [
      "Enter Number for digital root\n",
      "46842329\n",
      "Digital Root of 46842329 is 2\n"
     ]
    }
   ],
   "source": [
    "def Sum(n):\n",
    "    sum=0\n",
    "    for i in n:\n",
    "        sum=sum+int(i)\n",
    "    return sum\n",
    "def Digital_Root(num):\n",
    "    x=Sum(num)\n",
    "    while x>9:\n",
    "        y=str(x)\n",
    "        x=Sum(y)\n",
    "    return x\n",
    "m=input('Enter Number for digital root\\n')\n",
    "a=Digital_Root(m)\n",
    "print('Digital Root of',m,'is',a)"
   ]
  },
  {
   "cell_type": "markdown",
   "metadata": {},
   "source": [
    "Q.5 Write a function that takes an integer n and returns a random integer with exactly n digits. For instance, if n is 3, then 125 and 593 would be valid return values, but 093 would not because that is really 93, which is a two-digit number."
   ]
  },
  {
   "cell_type": "code",
   "execution_count": 5,
   "metadata": {},
   "outputs": [
    {
     "name": "stdout",
     "output_type": "stream",
     "text": [
      "Enter how many  digit of random number: 5\n",
      "The Random Value of 5 digit is : 84025\n"
     ]
    }
   ],
   "source": [
    "def Random(num):\n",
    "    j=int(num)   \n",
    "    i=1\n",
    "    low='1'\n",
    "    while i<j:\n",
    "        low=low+'0'\n",
    "        i=i+1\n",
    "        \n",
    "    high=low+'0'\n",
    "    low=int(low)\n",
    "    high=int(high)-1\n",
    "    \n",
    "    import random\n",
    "    z=random.randint(low,high)\n",
    "    return z\n",
    "\n",
    "a=input('Enter how many  digit of random number: ')\n",
    "s=Random(a)\n",
    "print('The Random Value of',a,'digit is :',s)"
   ]
  },
  {
   "cell_type": "markdown",
   "metadata": {},
   "source": [
    "Q.6 Write a function called matches that takes two strings as arguments and returns how many matches there are between the strings. A match is where the two strings have the same character at the same index. For instance, ' python ' and ' path ' match in the first, third, and fourth characters, so the function should return 3."
   ]
  },
  {
   "cell_type": "code",
   "execution_count": 6,
   "metadata": {},
   "outputs": [
    {
     "name": "stdout",
     "output_type": "stream",
     "text": [
      "Enter a word:python\n",
      "Enter another word:path\n",
      "the words have 3 matches\n"
     ]
    }
   ],
   "source": [
    "def matches(x,y):\n",
    "    n_1=len(x)\n",
    "    n_2=len(y)\n",
    "    j=0\n",
    "    i=0\n",
    "    if(n_1<n_2):\n",
    "        while(i<n_1):\n",
    "            if(x[i]==y[i]):\n",
    "                j=j+1\n",
    "            i=i+1\n",
    "    else:\n",
    "        while(i<n_2):\n",
    "            if(x[i]==y[i]):\n",
    "                j=j+1\n",
    "            i=i+1\n",
    "    return j\n",
    "a=input(\"Enter a word:\")\n",
    "b=input('Enter another word:')\n",
    "z=matches(a,b)\n",
    "print('the words have',z,'matches')"
   ]
  },
  {
   "cell_type": "markdown",
   "metadata": {},
   "source": [
    "Q.7 Write a function called primes that is given a number n and returns a list of the first n primes. Let the default value of n be 100."
   ]
  },
  {
   "cell_type": "code",
   "execution_count": 7,
   "metadata": {},
   "outputs": [
    {
     "name": "stdout",
     "output_type": "stream",
     "text": [
      "Prime Numbers upto 100 \n",
      " [2, 3, 5, 7, 11, 13, 17, 19, 23, 29, 31, 37, 41, 43, 47, 53, 59, 61, 67, 71, 73, 79, 83, 89, 97]\n"
     ]
    }
   ],
   "source": [
    "def Prime(n):\n",
    "    list=0\n",
    "    primenum=[]\n",
    "    i=2\n",
    "    while i<=n:\n",
    "        is_prime=True\n",
    "        j=2\n",
    "        while is_prime==True and j<i:\n",
    "            if i%j==0:\n",
    "                is_prime=False\n",
    "            j=j+1\n",
    "        if is_prime==True:\n",
    "            primenum.insert(list,i)\n",
    "            list=list+1\n",
    "        i=i+1\n",
    "    return primenum\n",
    "\n",
    "a=100\n",
    "prime_list=Prime(a)\n",
    "print('Prime Numbers upto',a,'\\n',prime_list)"
   ]
  },
  {
   "cell_type": "markdown",
   "metadata": {},
   "source": [
    "Q.8 Recall that if s is a string, then s.find( ' a ' ) will find the location of the first a in s . The problem is that it does not find the location of every a. Write a function called findall that given a string and a single character, returns a list containing all of the locations of that character in the string. It should return an empty list if there are no occurrences of the character in the string."
   ]
  },
  {
   "cell_type": "code",
   "execution_count": 12,
   "metadata": {},
   "outputs": [
    {
     "name": "stdout",
     "output_type": "stream",
     "text": [
      "Enter a String: All that we see or seem is but a dream within a dream .\n",
      "Enter a Character: e\n",
      "The position's of character e in the string\n",
      " [10, 13, 14, 20, 21, 35, 50]\n"
     ]
    }
   ],
   "source": [
    "def findall(string,character):\n",
    "    list=[]\n",
    "    i=0\n",
    "    j=0\n",
    "    for c in string:\n",
    "        if c==character:\n",
    "            list.insert(i,j)\n",
    "            i=i+1\n",
    "        j=j+1\n",
    "    return list\n",
    "string=input('Enter a String: ')\n",
    "character=input('Enter a Character: ')\n",
    "position=findall(string,character)\n",
    "print(\"The position's of character\",character,'in the string\\n',position)\n"
   ]
  },
  {
   "cell_type": "code",
   "execution_count": null,
   "metadata": {},
   "outputs": [],
   "source": []
  },
  {
   "cell_type": "code",
   "execution_count": null,
   "metadata": {},
   "outputs": [],
   "source": []
  }
 ],
 "metadata": {
  "kernelspec": {
   "display_name": "Python 3",
   "language": "python",
   "name": "python3"
  },
  "language_info": {
   "codemirror_mode": {
    "name": "ipython",
    "version": 3
   },
   "file_extension": ".py",
   "mimetype": "text/x-python",
   "name": "python",
   "nbconvert_exporter": "python",
   "pygments_lexer": "ipython3",
   "version": "3.7.1"
  }
 },
 "nbformat": 4,
 "nbformat_minor": 2
}
